{
 "cells": [
  {
   "cell_type": "code",
   "execution_count": 8,
   "metadata": {},
   "outputs": [
    {
     "name": "stdout",
     "output_type": "stream",
     "text": [
      "23035 audio files copied successfully!\n"
     ]
    }
   ],
   "source": [
    "\"\"\"\n",
    "Simple script to extract all audio files from zip-files from a given directory and copy them to a new directory.\n",
    "\n",
    "\"\"\"\n",
    "\n",
    "import os\n",
    "import shutil\n",
    "from zipfile import ZipFile\n",
    "\n",
    "def extract_zip(zip_path, extract_path):\n",
    "    with ZipFile(zip_path, 'r') as zip_ref:\n",
    "        zip_ref.extractall(extract_path)\n",
    "\n",
    "def find_and_copy_audio(source_dir, dest_dir):\n",
    "    # Create the main audio folder if it doesn't exist\n",
    "    if not os.path.exists(dest_dir):\n",
    "        os.makedirs(dest_dir)\n",
    "\n",
    "    # Initialize counter for audio files\n",
    "    audio_files_counter = 0\n",
    "\n",
    "    # Iterate through all files in the source directory\n",
    "    for root, dirs, files in os.walk(source_dir):\n",
    "        for file in files:\n",
    "            file_path = os.path.join(root, file)\n",
    "\n",
    "            # Check if the file is a zip file\n",
    "            if file.endswith('.zip'):\n",
    "                # Extract the contents of the zip file\n",
    "                extract_folder = os.path.join(dest_dir, os.path.splitext(file)[0])\n",
    "                extract_zip(file_path, extract_folder)\n",
    "\n",
    "                # Copy audio files from the extracted folder to the main audio folder\n",
    "                for audio_root, audio_dirs, audio_files in os.walk(extract_folder):\n",
    "                    for audio_file in audio_files:\n",
    "                        audio_file_path = os.path.join(audio_root, audio_file)\n",
    "\n",
    "                        # Assuming audio files have extensions like .mp3, .wav, etc.\n",
    "                        if audio_file.lower().endswith(('.mp3', '.wav', '.ogg', '.flac')):\n",
    "                            dest_audio_path = os.path.join(dest_dir, audio_file)\n",
    "                            shutil.copy(audio_file_path, dest_audio_path)\n",
    "                            audio_files_counter += 1\n",
    "\n",
    "                # Optional: Remove the extracted folder after copying\n",
    "                shutil.rmtree(extract_folder)\n",
    "\n",
    "    print(f\"{audio_files_counter} audio files copied successfully!\")\n",
    "\n",
    "if __name__ == \"__main__\":\n",
    "    # Set source directory to the current directory\n",
    "    source_directory = \"./\"\n",
    "    destination_directory = \"audio/\"\n",
    "\n",
    "    find_and_copy_audio(source_directory, destination_directory)\n"
   ]
  }
 ],
 "metadata": {
  "kernelspec": {
   "display_name": "audio",
   "language": "python",
   "name": "python3"
  },
  "language_info": {
   "codemirror_mode": {
    "name": "ipython",
    "version": 3
   },
   "file_extension": ".py",
   "mimetype": "text/x-python",
   "name": "python",
   "nbconvert_exporter": "python",
   "pygments_lexer": "ipython3",
   "version": "3.8.18"
  }
 },
 "nbformat": 4,
 "nbformat_minor": 2
}
